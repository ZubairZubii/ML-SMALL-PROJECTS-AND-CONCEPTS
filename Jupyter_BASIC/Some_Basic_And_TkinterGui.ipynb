{
 "cells": [
  {
   "cell_type": "code",
   "execution_count": null,
   "id": "25d9643d-0ea1-4679-b934-b4f57a5acaf7",
   "metadata": {},
   "outputs": [],
   "source": []
  },
  {
   "cell_type": "code",
   "execution_count": 6,
   "id": "64b32091-64dc-41b8-a6b1-d0e97de1cad8",
   "metadata": {},
   "outputs": [],
   "source": [
    "import numpy as np"
   ]
  },
  {
   "cell_type": "code",
   "execution_count": 10,
   "id": "297ccb39-3de4-4e9c-97e1-bbd2430d38ef",
   "metadata": {},
   "outputs": [],
   "source": [
    "from time import process_time"
   ]
  },
  {
   "cell_type": "code",
   "execution_count": 9,
   "id": "f8a83192-d85e-49ba-9dc1-fb7eb577f577",
   "metadata": {},
   "outputs": [],
   "source": [
    "nparray = np.array([ i for i in range(10000)])"
   ]
  },
  {
   "cell_type": "code",
   "execution_count": 11,
   "id": "209447a6-1d6a-4ec6-9669-9c42093744e9",
   "metadata": {},
   "outputs": [],
   "source": [
    "start_time = process_time()"
   ]
  },
  {
   "cell_type": "code",
   "execution_count": 13,
   "id": "1d2dbfcc-a08b-430e-aff7-457531a31e66",
   "metadata": {},
   "outputs": [],
   "source": [
    "nparray+=5"
   ]
  },
  {
   "cell_type": "code",
   "execution_count": 14,
   "id": "629cd9b9-0358-42e8-bd16-68d2e9be506c",
   "metadata": {},
   "outputs": [],
   "source": [
    "end_time = process_time()"
   ]
  },
  {
   "cell_type": "code",
   "execution_count": 16,
   "id": "758f7f28-f098-4b79-a987-72c5c6ccdb04",
   "metadata": {},
   "outputs": [
    {
     "name": "stdout",
     "output_type": "stream",
     "text": [
      "0.015625\n"
     ]
    }
   ],
   "source": [
    "print(end_time - start_time)"
   ]
  },
  {
   "cell_type": "code",
   "execution_count": 17,
   "id": "ffa8f81c-27b5-469f-8cbc-c6d3b986c03b",
   "metadata": {},
   "outputs": [],
   "source": [
    "list = [1,2,3,4]"
   ]
  },
  {
   "cell_type": "code",
   "execution_count": 18,
   "id": "c3d6f97f-8086-4780-a5a4-def7e8543b41",
   "metadata": {},
   "outputs": [
    {
     "name": "stdout",
     "output_type": "stream",
     "text": [
      "[1, 2, 3, 4]\n"
     ]
    }
   ],
   "source": [
    "print(list)"
   ]
  },
  {
   "cell_type": "code",
   "execution_count": 19,
   "id": "dddbf3df-fcb2-4cd3-9fc6-051f3e98642f",
   "metadata": {},
   "outputs": [],
   "source": [
    "nparray = np.array([1,2,3,4])"
   ]
  },
  {
   "cell_type": "code",
   "execution_count": 20,
   "id": "1251c995-c500-464f-9656-02f914027ab6",
   "metadata": {},
   "outputs": [
    {
     "name": "stdout",
     "output_type": "stream",
     "text": [
      "[1 2 3 4]\n"
     ]
    }
   ],
   "source": [
    "print(nparray)"
   ]
  },
  {
   "cell_type": "code",
   "execution_count": 21,
   "id": "9dd15e65-0374-4207-9914-2ee75d108152",
   "metadata": {},
   "outputs": [],
   "source": [
    "np_one_array = np.ones((4,5))"
   ]
  },
  {
   "cell_type": "code",
   "execution_count": 22,
   "id": "115e3ad8-9492-4504-b075-e0b9862ca8f5",
   "metadata": {},
   "outputs": [
    {
     "name": "stdout",
     "output_type": "stream",
     "text": [
      "[[1. 1. 1. 1. 1.]\n",
      " [1. 1. 1. 1. 1.]\n",
      " [1. 1. 1. 1. 1.]\n",
      " [1. 1. 1. 1. 1.]]\n"
     ]
    }
   ],
   "source": [
    "print(np_one_array)"
   ]
  },
  {
   "cell_type": "code",
   "execution_count": 23,
   "id": "da857faa-8836-47a9-a9b4-de845ca58f58",
   "metadata": {},
   "outputs": [],
   "source": [
    "np_one_array = np.eye(4)"
   ]
  },
  {
   "cell_type": "code",
   "execution_count": 24,
   "id": "2b78e007-05a8-4efc-b8b7-a8948268aeff",
   "metadata": {},
   "outputs": [
    {
     "name": "stdout",
     "output_type": "stream",
     "text": [
      "[[1. 0. 0. 0.]\n",
      " [0. 1. 0. 0.]\n",
      " [0. 0. 1. 0.]\n",
      " [0. 0. 0. 1.]]\n"
     ]
    }
   ],
   "source": [
    "print(np_one_array)"
   ]
  },
  {
   "cell_type": "code",
   "execution_count": 26,
   "id": "70f849f9-5773-433e-ae56-514a2b2a3545",
   "metadata": {},
   "outputs": [],
   "source": [
    "np_one_array = np.full((5,4),2)"
   ]
  },
  {
   "cell_type": "code",
   "execution_count": 27,
   "id": "141bac31-0a07-4e31-a6a3-10bb193e9267",
   "metadata": {},
   "outputs": [
    {
     "name": "stdout",
     "output_type": "stream",
     "text": [
      "[[2 2 2 2]\n",
      " [2 2 2 2]\n",
      " [2 2 2 2]\n",
      " [2 2 2 2]\n",
      " [2 2 2 2]]\n"
     ]
    }
   ],
   "source": [
    "print(np_one_array)"
   ]
  },
  {
   "cell_type": "code",
   "execution_count": 28,
   "id": "a060ba43-11e4-4af7-ab36-c56bdb4d8b3e",
   "metadata": {},
   "outputs": [],
   "source": [
    "np_one_array = np.random.random((5,4))"
   ]
  },
  {
   "cell_type": "code",
   "execution_count": 29,
   "id": "b4899e7e-5eb2-4a48-991c-171049e4752a",
   "metadata": {},
   "outputs": [
    {
     "name": "stdout",
     "output_type": "stream",
     "text": [
      "[[0.08038614 0.50426229 0.233339   0.19602402]\n",
      " [0.38740715 0.15120714 0.65851374 0.86072466]\n",
      " [0.0818254  0.41520812 0.3732595  0.02235674]\n",
      " [0.59741758 0.62109571 0.61468089 0.78579183]\n",
      " [0.53997384 0.71820991 0.75600993 0.21888237]]\n"
     ]
    }
   ],
   "source": [
    "print(np_one_array)"
   ]
  },
  {
   "cell_type": "code",
   "execution_count": 32,
   "id": "77273289-1a27-4d1e-9d8a-d8da5ae8cf34",
   "metadata": {},
   "outputs": [],
   "source": [
    "np_one_array = np.random.randint(10,20,(3,4))"
   ]
  },
  {
   "cell_type": "code",
   "execution_count": 33,
   "id": "148ecaac-7051-4a7b-b256-89a890c203df",
   "metadata": {},
   "outputs": [
    {
     "name": "stdout",
     "output_type": "stream",
     "text": [
      "[[10 15 17 19]\n",
      " [15 11 11 16]\n",
      " [12 16 13 12]]\n"
     ]
    }
   ],
   "source": [
    "print(np_one_array)\n"
   ]
  },
  {
   "cell_type": "code",
   "execution_count": 40,
   "id": "13469234-187c-4f9e-8213-7742db5cf2a2",
   "metadata": {},
   "outputs": [],
   "source": [
    "np_one_array = np.linspace(10,30,6)"
   ]
  },
  {
   "cell_type": "code",
   "execution_count": 41,
   "id": "0843aacd-1484-452d-8b15-1611de990bf5",
   "metadata": {},
   "outputs": [
    {
     "name": "stdout",
     "output_type": "stream",
     "text": [
      "[10. 14. 18. 22. 26. 30.]\n"
     ]
    }
   ],
   "source": [
    "print(np_one_array)"
   ]
  },
  {
   "cell_type": "code",
   "execution_count": 43,
   "id": "3c711449-991b-4ec8-b26a-921a04b4dbb5",
   "metadata": {},
   "outputs": [],
   "source": [
    "np_one_array = np.arange(10,30,5)"
   ]
  },
  {
   "cell_type": "code",
   "execution_count": 44,
   "id": "6b709637-94d0-4ed7-adde-0071dff53a92",
   "metadata": {},
   "outputs": [
    {
     "name": "stdout",
     "output_type": "stream",
     "text": [
      "[10 15 20 25]\n"
     ]
    }
   ],
   "source": [
    "print(np_one_array)"
   ]
  },
  {
   "cell_type": "code",
   "execution_count": 45,
   "id": "29824a84-6a49-4139-92c6-3edee0e2beb3",
   "metadata": {},
   "outputs": [],
   "source": [
    "list = [1,2,3,4] "
   ]
  },
  {
   "cell_type": "code",
   "execution_count": 46,
   "id": "0bc412ca-761d-4a02-b3cd-122e39959f30",
   "metadata": {},
   "outputs": [],
   "source": [
    "a = np.asarray(list)"
   ]
  },
  {
   "cell_type": "code",
   "execution_count": 47,
   "id": "95def8ae-1227-4ef9-ba2b-c3edaccda1d4",
   "metadata": {},
   "outputs": [
    {
     "name": "stdout",
     "output_type": "stream",
     "text": [
      "[1 2 3 4]\n"
     ]
    }
   ],
   "source": [
    "print(a)"
   ]
  },
  {
   "cell_type": "code",
   "execution_count": 48,
   "id": "7bc1a831-c273-4421-8a6a-6e395817d010",
   "metadata": {},
   "outputs": [],
   "source": [
    " ##Pandasfrom sklearn.datasets import load_boaston  import pandas as p"
   ]
  },
  {
   "cell_type": "code",
   "execution_count": 50,
   "id": "9fef1e8f-beb6-4a51-9c8c-d9371398ba85",
   "metadata": {},
   "outputs": [
    {
     "name": "stdout",
     "output_type": "stream",
     "text": [
      "Requirement already satisfied: pandas in c:\\users\\zubair\\anaconda3\\lib\\site-packages (2.1.4)\n",
      "Requirement already satisfied: numpy<2,>=1.23.2 in c:\\users\\zubair\\anaconda3\\lib\\site-packages (from pandas) (1.26.3)\n",
      "Requirement already satisfied: python-dateutil>=2.8.2 in c:\\users\\zubair\\anaconda3\\lib\\site-packages (from pandas) (2.8.2)\n",
      "Requirement already satisfied: pytz>=2020.1 in c:\\users\\zubair\\anaconda3\\lib\\site-packages (from pandas) (2023.3.post1)\n",
      "Requirement already satisfied: tzdata>=2022.1 in c:\\users\\zubair\\anaconda3\\lib\\site-packages (from pandas) (2023.3)\n",
      "Requirement already satisfied: six>=1.5 in c:\\users\\zubair\\anaconda3\\lib\\site-packages (from python-dateutil>=2.8.2->pandas) (1.16.0)\n"
     ]
    }
   ],
   "source": [
    "!pip install pandas"
   ]
  },
  {
   "cell_type": "code",
   "execution_count": 59,
   "id": "df4686ff-75c9-47a7-b41e-9cd1c0597133",
   "metadata": {},
   "outputs": [],
   "source": [
    "from sklearn.datasets import fetch_california_housing\n",
    "housing = fetch_california_housing()\n"
   ]
  },
  {
   "cell_type": "code",
   "execution_count": 60,
   "id": "bc7b51a6-a7cf-45c8-81ab-6b790f5ddad4",
   "metadata": {},
   "outputs": [
    {
     "data": {
      "text/plain": [
       "{'data': array([[   8.3252    ,   41.        ,    6.98412698, ...,    2.55555556,\n",
       "           37.88      , -122.23      ],\n",
       "        [   8.3014    ,   21.        ,    6.23813708, ...,    2.10984183,\n",
       "           37.86      , -122.22      ],\n",
       "        [   7.2574    ,   52.        ,    8.28813559, ...,    2.80225989,\n",
       "           37.85      , -122.24      ],\n",
       "        ...,\n",
       "        [   1.7       ,   17.        ,    5.20554273, ...,    2.3256351 ,\n",
       "           39.43      , -121.22      ],\n",
       "        [   1.8672    ,   18.        ,    5.32951289, ...,    2.12320917,\n",
       "           39.43      , -121.32      ],\n",
       "        [   2.3886    ,   16.        ,    5.25471698, ...,    2.61698113,\n",
       "           39.37      , -121.24      ]]),\n",
       " 'target': array([4.526, 3.585, 3.521, ..., 0.923, 0.847, 0.894]),\n",
       " 'frame': None,\n",
       " 'target_names': ['MedHouseVal'],\n",
       " 'feature_names': ['MedInc',\n",
       "  'HouseAge',\n",
       "  'AveRooms',\n",
       "  'AveBedrms',\n",
       "  'Population',\n",
       "  'AveOccup',\n",
       "  'Latitude',\n",
       "  'Longitude'],\n",
       " 'DESCR': '.. _california_housing_dataset:\\n\\nCalifornia Housing dataset\\n--------------------------\\n\\n**Data Set Characteristics:**\\n\\n    :Number of Instances: 20640\\n\\n    :Number of Attributes: 8 numeric, predictive attributes and the target\\n\\n    :Attribute Information:\\n        - MedInc        median income in block group\\n        - HouseAge      median house age in block group\\n        - AveRooms      average number of rooms per household\\n        - AveBedrms     average number of bedrooms per household\\n        - Population    block group population\\n        - AveOccup      average number of household members\\n        - Latitude      block group latitude\\n        - Longitude     block group longitude\\n\\n    :Missing Attribute Values: None\\n\\nThis dataset was obtained from the StatLib repository.\\nhttps://www.dcc.fc.up.pt/~ltorgo/Regression/cal_housing.html\\n\\nThe target variable is the median house value for California districts,\\nexpressed in hundreds of thousands of dollars ($100,000).\\n\\nThis dataset was derived from the 1990 U.S. census, using one row per census\\nblock group. A block group is the smallest geographical unit for which the U.S.\\nCensus Bureau publishes sample data (a block group typically has a population\\nof 600 to 3,000 people).\\n\\nA household is a group of people residing within a home. Since the average\\nnumber of rooms and bedrooms in this dataset are provided per household, these\\ncolumns may take surprisingly large values for block groups with few households\\nand many empty houses, such as vacation resorts.\\n\\nIt can be downloaded/loaded using the\\n:func:`sklearn.datasets.fetch_california_housing` function.\\n\\n.. topic:: References\\n\\n    - Pace, R. Kelley and Ronald Barry, Sparse Spatial Autoregressions,\\n      Statistics and Probability Letters, 33 (1997) 291-297\\n'}"
      ]
     },
     "execution_count": 60,
     "metadata": {},
     "output_type": "execute_result"
    }
   ],
   "source": [
    "housing"
   ]
  },
  {
   "cell_type": "code",
   "execution_count": null,
   "id": "e94c35df-0a86-4326-bc51-57a56b340063",
   "metadata": {},
   "outputs": [],
   "source": [
    "houaing =  pd.Dataframe()"
   ]
  },
  {
   "cell_type": "code",
   "execution_count": 63,
   "id": "09c2048e-8a04-4c3f-a297-d9338c9f309f",
   "metadata": {},
   "outputs": [],
   "source": [
    "import matplotlib.pyplot as plt\n"
   ]
  },
  {
   "cell_type": "code",
   "execution_count": 64,
   "id": "31198236-89b0-43ec-a4c5-f787c11e99a8",
   "metadata": {},
   "outputs": [],
   "source": [
    "df = np.linspace(10,20,50)\n",
    "\n"
   ]
  },
  {
   "cell_type": "code",
   "execution_count": null,
   "id": "a668eafd-67dc-480f-92fd-de2e66202658",
   "metadata": {},
   "outputs": [],
   "source": []
  },
  {
   "cell_type": "code",
   "execution_count": 65,
   "id": "6554689d-1c56-4849-8acf-47a49c850c2b",
   "metadata": {},
   "outputs": [
    {
     "data": {
      "text/plain": [
       "array([10.        , 10.20408163, 10.40816327, 10.6122449 , 10.81632653,\n",
       "       11.02040816, 11.2244898 , 11.42857143, 11.63265306, 11.83673469,\n",
       "       12.04081633, 12.24489796, 12.44897959, 12.65306122, 12.85714286,\n",
       "       13.06122449, 13.26530612, 13.46938776, 13.67346939, 13.87755102,\n",
       "       14.08163265, 14.28571429, 14.48979592, 14.69387755, 14.89795918,\n",
       "       15.10204082, 15.30612245, 15.51020408, 15.71428571, 15.91836735,\n",
       "       16.12244898, 16.32653061, 16.53061224, 16.73469388, 16.93877551,\n",
       "       17.14285714, 17.34693878, 17.55102041, 17.75510204, 17.95918367,\n",
       "       18.16326531, 18.36734694, 18.57142857, 18.7755102 , 18.97959184,\n",
       "       19.18367347, 19.3877551 , 19.59183673, 19.79591837, 20.        ])"
      ]
     },
     "execution_count": 65,
     "metadata": {},
     "output_type": "execute_result"
    }
   ],
   "source": [
    "df"
   ]
  },
  {
   "cell_type": "code",
   "execution_count": 79,
   "id": "9c33f26d-b1ba-479e-9c83-a02811612212",
   "metadata": {},
   "outputs": [
    {
     "data": {
      "image/png": "[encoded data removed]",
      "text/plain": [
       "<Figure size 640x480 with 1 Axes>"
      ]
     },
     "metadata": {},
     "output_type": "display_data"
    }
   ],
   "source": [
    "fig = plt.figure()\n",
    "ax = fig.add_axes([0,0,1,1])\n",
    "language = ['English','Urdu','Frech']\n",
    "people = [10,40,5]\n",
    "ax.pie(people,labels=language,autopct = '%1.1f%%')\n",
    "plt.show()"
   ]
  },
  {
   "cell_type": "code",
   "execution_count": null,
   "id": "4291c491-f0f4-4ce3-8ba1-d219d52c1243",
   "metadata": {},
   "outputs": [],
   "source": []
  },
  {
   "cell_type": "code",
   "execution_count": 94,
   "id": "2f4d7a6d-5abb-46b9-964d-9a740267db53",
   "metadata": {},
   "outputs": [],
   "source": [
    "df  =  np.random.random((100,3,3))"
   ]
  },
  {
   "cell_type": "code",
   "execution_count": 98,
   "id": "4914bfd6-cdf4-47b4-b39f-1ce1f61a8ad1",
   "metadata": {},
   "outputs": [],
   "source": [
    "df = df.flatten() # vertor convert from matrix"
   ]
  },
  {
   "cell_type": "code",
   "execution_count": 99,
   "id": "ed6ca1c9-b1b2-4ed9-8945-4cc346ac3f10",
   "metadata": {},
   "outputs": [
    {
     "data": {
      "text/plain": [
       "array([9.62382210e-01, 3.92905039e-01, 7.26009883e-01, 1.16244561e-01,\n",
       "       9.07415500e-01, 7.09375640e-01, 4.97492692e-01, 1.81855826e-01,\n",
       "       1.18690396e-01, 7.12492294e-01, 1.92189876e-01, 4.82407000e-01,\n",
       "       7.32318177e-01, 9.47597740e-01, 8.87819126e-01, 5.32303201e-01,\n",
       "       8.33631521e-01, 8.95206999e-01, 8.73358175e-01, 3.00411401e-01,\n",
       "       3.21866192e-01, 9.40834365e-01, 1.04548804e-01, 3.02377097e-01,\n",
       "       2.55206990e-01, 9.34310711e-02, 6.75301028e-01, 2.45716145e-01,\n",
       "       3.32949073e-01, 5.38706810e-01, 2.82758042e-01, 6.25099920e-01,\n",
       "       5.92420814e-01, 8.91901461e-01, 2.72170663e-01, 7.65211314e-01,\n",
       "       9.52410950e-01, 4.68065442e-02, 4.58940005e-01, 9.86082245e-01,\n",
       "       8.90045183e-01, 6.18615913e-01, 6.23398517e-02, 2.02467470e-01,\n",
       "       2.88168520e-01, 6.39969924e-01, 4.53963978e-01, 1.50849744e-01,\n",
       "       3.72657670e-01, 8.63619811e-01, 1.71451258e-01, 7.86080168e-01,\n",
       "       9.43141440e-01, 2.02796582e-02, 1.44930979e-01, 7.37243779e-01,\n",
       "       8.87456062e-02, 5.84287169e-01, 2.46917092e-01, 1.83611496e-01,\n",
       "       5.83596074e-01, 5.67346335e-01, 9.10242295e-01, 5.26244930e-02,\n",
       "       1.58691739e-01, 1.39991641e-01, 5.96943298e-01, 5.11821662e-01,\n",
       "       4.65308276e-02, 1.29961787e-01, 9.72527091e-01, 1.14667281e-01,\n",
       "       1.39953835e-01, 2.01163842e-01, 2.47179759e-01, 1.32882360e-01,\n",
       "       5.35125778e-01, 1.88581492e-01, 7.41720453e-01, 1.75299443e-02,\n",
       "       2.65619923e-01, 1.67975052e-01, 9.41287251e-02, 4.59238175e-01,\n",
       "       4.12907570e-01, 1.13758715e-01, 8.42417224e-01, 4.01077291e-01,\n",
       "       5.14175576e-01, 7.04184377e-01, 5.58942945e-01, 6.51585716e-01,\n",
       "       2.48050621e-01, 6.22900725e-01, 4.61687694e-01, 6.74373004e-01,\n",
       "       4.77851481e-01, 1.02604546e-01, 4.56541734e-01, 8.04414472e-01,\n",
       "       9.43207565e-01, 2.35531055e-01, 4.72521646e-01, 4.93794061e-01,\n",
       "       3.33596378e-01, 9.07895636e-01, 9.20665365e-01, 8.07687755e-01,\n",
       "       1.15809941e-01, 5.66403642e-01, 5.22655207e-01, 3.21439907e-01,\n",
       "       5.07567239e-01, 7.82899531e-01, 4.53319448e-01, 7.42733043e-01,\n",
       "       9.91019874e-01, 3.68730164e-01, 6.36956500e-01, 8.07291147e-01,\n",
       "       6.11182052e-01, 5.67053049e-01, 6.74481833e-01, 7.27918438e-02,\n",
       "       9.86471217e-01, 5.22106534e-01, 2.97135506e-01, 1.20720099e-01,\n",
       "       4.39803953e-01, 8.79941549e-01, 3.00919959e-02, 7.74571387e-01,\n",
       "       6.84597395e-01, 2.86256311e-01, 6.83989092e-01, 9.09876068e-01,\n",
       "       8.28885694e-01, 9.96229519e-01, 4.86665924e-02, 1.11469516e-01,\n",
       "       8.94702416e-01, 3.76084240e-01, 4.99227704e-02, 7.99491323e-01,\n",
       "       2.06248759e-01, 6.25668031e-01, 3.94297138e-01, 8.45826534e-01,\n",
       "       2.46955080e-01, 1.67337916e-01, 3.65968501e-01, 8.48809518e-01,\n",
       "       3.09376500e-01, 5.61087856e-02, 8.35817663e-01, 5.78369720e-01,\n",
       "       8.12493201e-01, 7.56132005e-01, 2.24510090e-01, 6.18671956e-01,\n",
       "       9.89903362e-01, 5.90968413e-01, 1.17946370e-01, 2.00490494e-01,\n",
       "       4.75624378e-01, 8.08300355e-01, 5.26637378e-01, 2.46469875e-01,\n",
       "       7.16020150e-01, 5.19521265e-01, 8.86467779e-02, 9.48501359e-02,\n",
       "       3.33335219e-01, 7.79151992e-01, 1.94168710e-02, 7.55538420e-01,\n",
       "       8.31175070e-01, 2.89524423e-01, 6.76062720e-01, 5.90605960e-02,\n",
       "       8.37183337e-01, 7.35788218e-01, 8.24397225e-01, 5.63575033e-01,\n",
       "       1.88900827e-01, 8.92500736e-01, 4.53906289e-01, 8.63404022e-01,\n",
       "       2.21505981e-01, 3.89324445e-01, 5.96108610e-02, 6.60005647e-01,\n",
       "       4.17416691e-01, 7.96110846e-01, 7.01875719e-01, 7.16256559e-01,\n",
       "       7.53281076e-02, 3.42299738e-01, 6.32994086e-01, 8.03322881e-01,\n",
       "       5.43316853e-02, 9.52577771e-01, 3.35874003e-01, 1.90454620e-01,\n",
       "       3.29751669e-01, 3.15800549e-02, 3.19255377e-01, 9.24118203e-01,\n",
       "       2.06729492e-01, 6.25735206e-01, 6.27109457e-01, 9.27503742e-01,\n",
       "       1.70189275e-01, 3.56932253e-01, 1.53642703e-01, 9.92912823e-02,\n",
       "       4.31959594e-01, 1.61495333e-02, 7.13170399e-01, 1.21458443e-01,\n",
       "       2.98810515e-01, 6.34109116e-01, 8.13382285e-01, 1.02928615e-01,\n",
       "       8.15451952e-01, 1.32679386e-01, 9.67876446e-01, 8.83164778e-01,\n",
       "       5.15516834e-01, 7.51991974e-02, 6.95674413e-01, 2.01218408e-01,\n",
       "       8.01022952e-01, 6.94776978e-01, 5.02164517e-01, 2.27157736e-01,\n",
       "       8.38674771e-01, 6.30843408e-02, 8.13228709e-01, 1.76119070e-02,\n",
       "       2.40856870e-01, 8.05659820e-01, 1.84674595e-02, 1.92282859e-01,\n",
       "       7.48563176e-02, 5.58925545e-01, 9.47100610e-01, 3.31568300e-01,\n",
       "       8.32225121e-01, 6.70239352e-01, 3.44242480e-01, 9.16336981e-01,\n",
       "       5.07982173e-01, 4.81521851e-01, 9.69237546e-01, 4.62566445e-01,\n",
       "       7.90300842e-01, 6.69224081e-01, 6.36315489e-01, 8.48876161e-01,\n",
       "       8.36535187e-01, 8.75695727e-01, 8.92405430e-01, 9.95802792e-01,\n",
       "       5.07151135e-01, 3.91852628e-01, 8.82607261e-01, 7.48339232e-01,\n",
       "       9.83276334e-01, 7.23006326e-01, 7.85837100e-01, 9.42205980e-01,\n",
       "       7.92984540e-01, 5.48101668e-01, 6.21808364e-03, 9.44466765e-01,\n",
       "       4.30836565e-01, 2.93822900e-01, 1.61215163e-01, 8.83561104e-01,\n",
       "       6.69878425e-01, 4.38063400e-01, 2.21784078e-01, 6.48599916e-01,\n",
       "       4.10005242e-01, 8.52587250e-02, 9.01290925e-01, 6.48841841e-01,\n",
       "       7.41396522e-03, 6.73192396e-01, 3.93698661e-01, 6.35072523e-01,\n",
       "       2.73575494e-01, 4.31868326e-01, 4.11738474e-01, 8.46600307e-01,\n",
       "       4.37902720e-01, 4.94411006e-01, 5.32446670e-01, 7.55896750e-01,\n",
       "       5.07482546e-01, 6.05360945e-01, 1.65144887e-01, 6.03926784e-01,\n",
       "       5.01544922e-02, 2.25933836e-01, 5.33127736e-01, 2.96347197e-01,\n",
       "       5.87314710e-01, 4.68870716e-01, 4.17603775e-01, 8.24699750e-01,\n",
       "       9.81990549e-01, 4.56645599e-01, 8.90146692e-01, 5.13360583e-01,\n",
       "       4.97914826e-01, 3.08821278e-01, 3.41924959e-01, 1.57300372e-01,\n",
       "       8.86165418e-01, 5.27979906e-01, 5.64816777e-01, 8.77966606e-02,\n",
       "       6.87483509e-01, 3.59898750e-01, 6.09057927e-01, 5.15678761e-01,\n",
       "       8.80272605e-01, 3.88309114e-01, 3.45351176e-01, 1.48643070e-01,\n",
       "       4.13651366e-01, 4.21239714e-01, 1.67230433e-01, 6.88478658e-01,\n",
       "       6.16192379e-01, 7.33488689e-01, 5.35278580e-01, 1.10126675e-01,\n",
       "       2.26384627e-01, 3.40991368e-01, 7.84587201e-01, 6.11195322e-01,\n",
       "       2.24208885e-01, 7.82359270e-01, 2.89767486e-01, 2.75190427e-01,\n",
       "       8.53276905e-01, 6.41084532e-01, 2.48435720e-01, 4.52041444e-01,\n",
       "       5.93211018e-01, 1.94566805e-01, 4.44296772e-01, 2.29639719e-01,\n",
       "       3.50473494e-01, 9.13962760e-01, 1.85788955e-01, 7.55629471e-01,\n",
       "       5.60810886e-01, 5.76110321e-01, 2.25542980e-01, 3.83471815e-01,\n",
       "       5.84710456e-01, 6.62081162e-01, 8.15086074e-01, 2.66866345e-01,\n",
       "       8.65354728e-01, 3.79083489e-01, 6.34142319e-01, 5.77773771e-01,\n",
       "       4.80642819e-01, 4.07595695e-01, 4.56770323e-01, 8.81340876e-01,\n",
       "       3.06935301e-01, 5.49871226e-01, 8.55271231e-01, 7.63263671e-01,\n",
       "       7.80390299e-01, 6.29268713e-01, 3.65031495e-01, 1.38214958e-01,\n",
       "       2.25251286e-01, 4.88012883e-02, 7.17248996e-01, 6.59183207e-02,\n",
       "       7.57809474e-01, 9.40468936e-02, 3.12220433e-01, 3.49249840e-01,\n",
       "       6.71461818e-02, 7.33144047e-01, 9.90030415e-01, 9.98186460e-01,\n",
       "       7.83047350e-01, 1.08217813e-01, 5.03904722e-01, 6.80839146e-01,\n",
       "       9.00684709e-01, 1.40904719e-01, 1.20000035e-02, 8.92281978e-01,\n",
       "       2.94525764e-01, 5.98877445e-01, 6.80780244e-01, 2.27506953e-01,\n",
       "       2.34101576e-01, 2.00724289e-01, 8.38751959e-01, 7.40883518e-01,\n",
       "       8.76413553e-01, 4.61360332e-01, 3.78184860e-01, 4.41323449e-01,\n",
       "       3.38544922e-01, 8.44601673e-01, 8.83076334e-01, 5.87116830e-01,\n",
       "       4.65827392e-01, 5.76677348e-01, 8.14802510e-01, 8.43186680e-01,\n",
       "       5.22059886e-01, 2.23335172e-01, 2.45991706e-01, 3.40442556e-01,\n",
       "       9.80888868e-01, 5.23171825e-01, 1.24611036e-01, 2.45012201e-01,\n",
       "       1.86646721e-01, 1.46740069e-01, 9.45435995e-01, 6.83337511e-01,\n",
       "       1.01114787e-04, 5.77614447e-03, 3.51585740e-01, 7.66049838e-01,\n",
       "       7.89842213e-01, 1.97909499e-01, 9.89103988e-01, 6.47631110e-01,\n",
       "       4.21630995e-01, 5.28446080e-01, 6.89205463e-01, 1.72708323e-01,\n",
       "       2.95890265e-02, 8.54156748e-02, 2.44829256e-01, 2.45057031e-01,\n",
       "       2.93522691e-01, 1.56415905e-01, 9.92170398e-01, 5.83033290e-01,\n",
       "       9.38283029e-01, 7.74072649e-01, 5.13097289e-01, 6.75429136e-01,\n",
       "       9.81395326e-01, 9.27985263e-01, 4.43805724e-01, 4.66755625e-01,\n",
       "       5.45997975e-01, 4.39413252e-02, 2.36647754e-01, 9.61015008e-01,\n",
       "       1.83854535e-01, 7.77010079e-01, 8.79555417e-01, 4.14647039e-02,\n",
       "       8.55399972e-01, 6.51442943e-01, 9.41003391e-01, 5.77515673e-01,\n",
       "       3.91597694e-01, 4.64606762e-01, 4.53728719e-01, 5.87327167e-01,\n",
       "       5.59639082e-01, 9.33881414e-01, 9.18157817e-01, 7.22734380e-01,\n",
       "       3.93901654e-02, 6.14790062e-01, 7.56819175e-01, 4.97175956e-01,\n",
       "       4.95464491e-01, 5.36776108e-01, 3.99587283e-01, 2.92204975e-01,\n",
       "       7.42912757e-01, 8.04076973e-01, 8.81026904e-01, 4.08842219e-01,\n",
       "       2.13280386e-01, 7.61867134e-02, 9.28352794e-01, 5.52201289e-01,\n",
       "       4.60078570e-01, 6.88266973e-01, 3.85424804e-01, 2.28330300e-01,\n",
       "       4.07906760e-01, 9.62396333e-01, 1.12665636e-01, 5.16974781e-01,\n",
       "       9.05727510e-01, 8.28196075e-02, 2.48738849e-01, 3.36385243e-01,\n",
       "       1.04197098e-01, 8.16956850e-01, 5.15447160e-02, 5.16418152e-01,\n",
       "       3.19465307e-02, 1.79270179e-01, 9.90858677e-01, 9.94402057e-01,\n",
       "       5.36330965e-01, 9.29259759e-01, 3.32165292e-01, 1.73258669e-01,\n",
       "       3.07575076e-01, 3.87591428e-01, 4.23278423e-01, 3.81044944e-02,\n",
       "       3.74306554e-01, 6.43207940e-01, 8.65366970e-01, 5.70116263e-01,\n",
       "       6.67664920e-01, 3.59047225e-01, 2.31229317e-01, 7.48439004e-01,\n",
       "       2.88504648e-03, 8.89277202e-02, 6.70713785e-01, 5.63077954e-01,\n",
       "       7.15794871e-02, 6.78963867e-01, 5.05045985e-01, 7.33199589e-01,\n",
       "       2.74685048e-01, 1.35924735e-01, 7.12257815e-01, 8.35354756e-02,\n",
       "       8.30010766e-01, 1.71165189e-01, 7.90302399e-01, 4.45639517e-01,\n",
       "       8.49115118e-02, 9.18701743e-02, 7.37556479e-01, 5.18754703e-01,\n",
       "       5.89413692e-01, 6.68989252e-01, 7.83670742e-01, 9.28689082e-02,\n",
       "       7.15167202e-01, 5.00877890e-01, 6.94775166e-02, 4.52127399e-01,\n",
       "       5.13676445e-02, 8.66898507e-01, 6.50428183e-01, 5.82362616e-01,\n",
       "       2.33769920e-01, 2.08376610e-01, 2.38273001e-01, 4.60095784e-01,\n",
       "       6.89122035e-01, 6.17303834e-01, 2.02460053e-01, 1.41436381e-01,\n",
       "       7.98352190e-01, 5.26805948e-02, 3.10351388e-01, 5.68643353e-01,\n",
       "       4.94296591e-01, 6.98576643e-01, 6.08128891e-01, 2.33311151e-01,\n",
       "       5.85546996e-01, 6.14646362e-02, 6.62105316e-01, 9.40805814e-01,\n",
       "       6.70608142e-01, 8.32029840e-02, 7.98554660e-02, 6.90256899e-01,\n",
       "       1.57838125e-01, 3.37601866e-01, 9.41470698e-01, 3.97857416e-02,\n",
       "       2.39072520e-01, 9.42760392e-01, 6.66978688e-01, 5.59003780e-01,\n",
       "       7.80425479e-01, 8.49080177e-01, 5.31619481e-02, 3.17111495e-02,\n",
       "       2.29858899e-02, 6.34706895e-01, 3.24178913e-01, 7.90020147e-01,\n",
       "       5.65074253e-01, 9.48385237e-02, 3.33525859e-01, 3.35018166e-01,\n",
       "       5.99020690e-01, 2.84884235e-01, 4.01630659e-01, 3.48862396e-01,\n",
       "       9.53270188e-01, 6.14009814e-01, 1.94563913e-01, 8.62854636e-01,\n",
       "       9.81070521e-01, 1.03451140e-01, 4.64805702e-01, 7.81371662e-01,\n",
       "       5.13331672e-02, 2.97225242e-01, 2.42241370e-01, 4.24185305e-01,\n",
       "       8.75172145e-01, 6.23423093e-01, 3.86969220e-01, 8.47338271e-01,\n",
       "       3.52779773e-01, 7.92825537e-01, 4.04620540e-01, 9.49912655e-01,\n",
       "       4.88019792e-01, 5.04396543e-01, 7.94652913e-01, 5.10518670e-01,\n",
       "       9.19690579e-01, 2.92524893e-01, 4.11837356e-01, 8.97959868e-01,\n",
       "       1.26931472e-01, 4.03629855e-01, 1.90624405e-01, 6.21865456e-01,\n",
       "       1.52023980e-01, 5.74318327e-01, 4.30534182e-01, 4.30130024e-01,\n",
       "       7.46744309e-01, 4.02992211e-01, 8.19330434e-01, 1.21917963e-01,\n",
       "       8.63871193e-01, 5.95799326e-01, 7.32815859e-01, 1.41717353e-01,\n",
       "       1.54086429e-01, 4.10811647e-01, 6.90994730e-01, 5.68687773e-01,\n",
       "       2.13270499e-01, 6.14404402e-03, 9.18718722e-01, 4.03503100e-01,\n",
       "       5.64782479e-01, 6.20773982e-01, 9.33745404e-01, 1.60092360e-01,\n",
       "       2.75395836e-01, 3.45766466e-01, 8.95578081e-01, 3.86826267e-01,\n",
       "       9.00255828e-01, 8.58190261e-01, 5.52927290e-01, 6.45949346e-01,\n",
       "       2.48084851e-01, 4.52998325e-01, 2.66422445e-01, 4.07459663e-01,\n",
       "       4.14911784e-01, 9.15838941e-01, 6.21250567e-01, 4.73203313e-01,\n",
       "       5.78016972e-02, 6.45270685e-01, 8.59963527e-01, 5.01775378e-01,\n",
       "       7.76296468e-01, 1.13507102e-01, 3.04277861e-02, 8.03313551e-01,\n",
       "       1.06025246e-02, 1.43974257e-01, 1.25759979e-01, 1.90929516e-01,\n",
       "       1.95730798e-01, 4.24379551e-01, 1.43551858e-01, 1.31741922e-01,\n",
       "       9.23807129e-01, 9.69082259e-01, 5.29322390e-01, 7.11574618e-01,\n",
       "       9.10145056e-01, 3.74061013e-01, 5.32201169e-01, 2.29796020e-02,\n",
       "       3.83541336e-01, 6.06076223e-01, 9.48799612e-01, 3.06870804e-01,\n",
       "       9.06226055e-01, 3.79864630e-01, 8.23856342e-01, 8.79627671e-01,\n",
       "       3.50984473e-01, 9.50116722e-01, 1.36716925e-01, 4.21722799e-01,\n",
       "       7.68820283e-01, 8.10929745e-01, 7.28027888e-01, 8.26727610e-01,\n",
       "       9.00069168e-01, 9.41354880e-01, 3.55337527e-01, 6.30319252e-01,\n",
       "       7.77239306e-01, 9.60043116e-01, 7.26337485e-02, 2.43169658e-01,\n",
       "       8.65879481e-01, 8.62611606e-01, 4.72059590e-01, 1.49962283e-01,\n",
       "       2.94310784e-01, 5.47361651e-02, 7.35050302e-02, 6.32263538e-01,\n",
       "       5.97802840e-01, 8.41461496e-01, 9.90538745e-01, 4.77867994e-01,\n",
       "       1.36499998e-01, 7.73536213e-01, 4.33559672e-01, 7.46133800e-02,\n",
       "       9.11090831e-01, 8.96653224e-01, 2.59047419e-01, 4.43618664e-01,\n",
       "       2.73631949e-01, 5.93411592e-02, 3.37435648e-01, 4.91352164e-01,\n",
       "       9.38587264e-01, 1.75795561e-02, 3.49060145e-01, 8.18552308e-01,\n",
       "       7.05006590e-01, 1.26193267e-01, 5.41426932e-01, 1.07290526e-01,\n",
       "       4.62773381e-01, 9.73698952e-01, 1.12763658e-01, 5.98533612e-03,\n",
       "       1.84730930e-01, 6.68117676e-01, 9.49899451e-01, 8.62317389e-03,\n",
       "       1.88085572e-01, 6.30859616e-01, 8.85739326e-01, 9.12216694e-01,\n",
       "       5.23511669e-01, 5.29546570e-01, 5.30838127e-01, 3.85730638e-01,\n",
       "       4.89959613e-01, 2.58472357e-01, 8.84218601e-01, 5.34442962e-01,\n",
       "       1.02707901e-01, 2.83540808e-01, 2.97358441e-01, 8.65593707e-01,\n",
       "       5.93740019e-01, 1.54012730e-01, 1.85274018e-01, 9.72106026e-01,\n",
       "       5.54247318e-01, 9.52869396e-01, 9.14598858e-02, 8.96617248e-01,\n",
       "       7.70993368e-01, 2.06622118e-01, 2.16743595e-01, 8.63889925e-01,\n",
       "       6.70595879e-01, 6.16087493e-01, 7.81182317e-01, 4.27298765e-02,\n",
       "       2.74573588e-01, 3.03118348e-01, 6.28653432e-01, 1.21252212e-01,\n",
       "       6.46453228e-01, 6.84475565e-01, 1.84864294e-01, 4.19908676e-01,\n",
       "       7.47064092e-01, 8.38555718e-01, 7.17458415e-01, 8.73208167e-01,\n",
       "       8.23971275e-01, 2.83712780e-01, 8.46885373e-01, 9.01391873e-01,\n",
       "       6.70695667e-01, 1.99738002e-01, 5.80324472e-01, 9.61625602e-01,\n",
       "       9.89722267e-01, 9.94896923e-01, 5.15111493e-01, 8.30959771e-01,\n",
       "       9.99328540e-01, 2.49354696e-02, 6.56946420e-01, 3.35246828e-01,\n",
       "       3.67262686e-01, 9.74081891e-02, 3.98944266e-02, 9.65179544e-01,\n",
       "       1.01199723e-01, 7.57819939e-01, 4.87350163e-01, 2.11228348e-04,\n",
       "       2.66688000e-01, 3.37643844e-01, 4.57471568e-01, 6.94194695e-01,\n",
       "       2.28638723e-01, 6.02322090e-01, 7.29456793e-01, 8.56513302e-01,\n",
       "       9.76360921e-01, 4.42877301e-01, 9.56036969e-01, 3.48115138e-01,\n",
       "       9.08818439e-01, 9.59436683e-01, 8.52442944e-01, 9.61371633e-03,\n",
       "       4.67966315e-01, 6.29847902e-01, 2.44041882e-01, 3.94052860e-01,\n",
       "       6.91544889e-01, 6.27297388e-01, 6.36270186e-01, 8.71993161e-01,\n",
       "       5.73670984e-02, 6.80524497e-01, 4.93964649e-01, 6.49247824e-01,\n",
       "       8.88748690e-01, 2.60937351e-01, 3.28924300e-01, 1.14301038e-02,\n",
       "       9.17275159e-02, 8.96354379e-01, 4.91763960e-01, 4.62846201e-01,\n",
       "       8.90522352e-01, 8.64098437e-01, 8.83472565e-01, 5.86905509e-01,\n",
       "       5.61370279e-01, 1.25332483e-01, 8.66852829e-01, 9.26863062e-01,\n",
       "       8.16078788e-01, 4.36670257e-01, 6.52009777e-01, 7.00744040e-01,\n",
       "       5.00913000e-02, 7.28021059e-01, 9.50075074e-01, 9.03110802e-01,\n",
       "       9.97533409e-02, 9.28917974e-01, 3.32824602e-01, 9.22396861e-01])"
      ]
     },
     "execution_count": 99,
     "metadata": {},
     "output_type": "execute_result"
    }
   ],
   "source": [
    "df"
   ]
  },
  {
   "cell_type": "code",
   "execution_count": 88,
   "id": "3bc6044e-00d4-46d4-ad07-54e0a025dd13",
   "metadata": {},
   "outputs": [],
   "source": [
    "df  =  np.linspace(0,1,20)"
   ]
  },
  {
   "cell_type": "code",
   "execution_count": 89,
   "id": "a8c8df38-4d09-4bae-a19f-ce3a5646a1b8",
   "metadata": {},
   "outputs": [
    {
     "data": {
      "text/plain": [
       "array([0.        , 0.05263158, 0.10526316, 0.15789474, 0.21052632,\n",
       "       0.26315789, 0.31578947, 0.36842105, 0.42105263, 0.47368421,\n",
       "       0.52631579, 0.57894737, 0.63157895, 0.68421053, 0.73684211,\n",
       "       0.78947368, 0.84210526, 0.89473684, 0.94736842, 1.        ])"
      ]
     },
     "execution_count": 89,
     "metadata": {},
     "output_type": "execute_result"
    }
   ],
   "source": [
    "df"
   ]
  },
  {
   "cell_type": "code",
   "execution_count": 121,
   "id": "afb8abcf-4a0a-45f6-ae5c-852dae4822cf",
   "metadata": {},
   "outputs": [],
   "source": [
    "checkerboard_matrix = np.zeros((5, 5))\n",
    "checkerboard_matrix[1::2, ::2] =1 # 1::2-> start with 2 row and ::2 every scond column\n",
    "checkerboard_matrix[::2, 1::2] =1 "
   ]
  },
  {
   "cell_type": "code",
   "execution_count": 120,
   "id": "9c6ba885-d60a-407c-849b-605123a3ab28",
   "metadata": {},
   "outputs": [
    {
     "data": {
      "text/plain": [
       "array([[0., 0., 0., 0., 0.],\n",
       "       [1., 0., 1., 0., 1.],\n",
       "       [0., 0., 0., 0., 0.],\n",
       "       [1., 0., 1., 0., 1.],\n",
       "       [0., 0., 0., 0., 0.]])"
      ]
     },
     "execution_count": 120,
     "metadata": {},
     "output_type": "execute_result"
    }
   ],
   "source": [
    "checkerboard_matrix\n"
   ]
  },
  {
   "cell_type": "code",
   "execution_count": 5,
   "id": "17d1ae90-adec-4334-88a7-9555756fae41",
   "metadata": {},
   "outputs": [
    {
     "name": "stdout",
     "output_type": "stream",
     "text": [
      "Requirement already satisfied: jovian in c:\\users\\zubair\\anaconda3\\lib\\site-packages (0.2.47)\n",
      "Requirement already satisfied: requests in c:\\users\\zubair\\anaconda3\\lib\\site-packages (from jovian) (2.31.0)\n",
      "Requirement already satisfied: uuid in c:\\users\\zubair\\anaconda3\\lib\\site-packages (from jovian) (1.30)\n",
      "Requirement already satisfied: pyyaml in c:\\users\\zubair\\anaconda3\\lib\\site-packages (from jovian) (6.0.1)\n",
      "Requirement already satisfied: click in c:\\users\\zubair\\anaconda3\\lib\\site-packages (from jovian) (8.1.7)\n",
      "Requirement already satisfied: colorama in c:\\users\\zubair\\anaconda3\\lib\\site-packages (from click->jovian) (0.4.6)\n",
      "Requirement already satisfied: charset-normalizer<4,>=2 in c:\\users\\zubair\\anaconda3\\lib\\site-packages (from requests->jovian) (2.0.4)\n",
      "Requirement already satisfied: idna<4,>=2.5 in c:\\users\\zubair\\anaconda3\\lib\\site-packages (from requests->jovian) (3.4)\n",
      "Requirement already satisfied: urllib3<3,>=1.21.1 in c:\\users\\zubair\\anaconda3\\lib\\site-packages (from requests->jovian) (1.26.18)\n",
      "Requirement already satisfied: certifi>=2017.4.17 in c:\\users\\zubair\\anaconda3\\lib\\site-packages (from requests->jovian) (2023.11.17)\n"
     ]
    }
   ],
   "source": [
    "!pip install jovian"
   ]
  },
  {
   "cell_type": "code",
   "execution_count": 1,
   "id": "e0e8affe-563a-4b0f-82bf-0617dda50a50",
   "metadata": {},
   "outputs": [
    {
     "name": "stdout",
     "output_type": "stream",
     "text": [
      "Requirement already satisfied: joblib in c:\\users\\zubair\\anaconda3\\lib\\site-packages (1.2.0)\n"
     ]
    }
   ],
   "source": [
    "!pip install joblib"
   ]
  },
  {
   "cell_type": "code",
   "execution_count": 2,
   "id": "1c7d23ab-4547-47eb-ad56-0dbe70b501db",
   "metadata": {},
   "outputs": [],
   "source": [
    "import joblib #to save model"
   ]
  },
  {
   "cell_type": "code",
   "execution_count": null,
   "id": "a620e58d-07f0-4bd5-a183-d8ee2ede58ef",
   "metadata": {},
   "outputs": [],
   "source": [
    "joblib.dump(model , 'my_model')"
   ]
  },
  {
   "cell_type": "code",
   "execution_count": 12,
   "id": "2cf41e5a-67a4-45d1-99e1-755f0c04509e",
   "metadata": {},
   "outputs": [],
   "source": [
    "###Tkinter GUI Basic"
   ]
  },
  {
   "cell_type": "code",
   "execution_count": 14,
   "id": "7a40de8b-19aa-4309-9fe4-434a99c2d26a",
   "metadata": {},
   "outputs": [
    {
     "ename": "NameError",
     "evalue": "name 'callback_function' is not defined",
     "output_type": "error",
     "traceback": [
      "\u001b[1;31m---------------------------------------------------------------------------\u001b[0m",
      "\u001b[1;31mNameError\u001b[0m                                 Traceback (most recent call last)",
      "Cell \u001b[1;32mIn[14], line 6\u001b[0m\n\u001b[0;32m      4\u001b[0m root\u001b[38;5;241m.\u001b[39mtitle(\u001b[38;5;124m\"\u001b[39m\u001b[38;5;124mMy GUI\u001b[39m\u001b[38;5;124m\"\u001b[39m)  \u001b[38;5;66;03m# Sets the title of the window\u001b[39;00m\n\u001b[0;32m      5\u001b[0m label \u001b[38;5;241m=\u001b[39m tk\u001b[38;5;241m.\u001b[39mLabel(root, text\u001b[38;5;241m=\u001b[39m\u001b[38;5;124m\"\u001b[39m\u001b[38;5;124mHello, Tkinter!\u001b[39m\u001b[38;5;124m\"\u001b[39m)\n\u001b[1;32m----> 6\u001b[0m button \u001b[38;5;241m=\u001b[39m tk\u001b[38;5;241m.\u001b[39mButton(root, text\u001b[38;5;241m=\u001b[39m\u001b[38;5;124m\"\u001b[39m\u001b[38;5;124mClick me!\u001b[39m\u001b[38;5;124m\"\u001b[39m, command\u001b[38;5;241m=\u001b[39mcallback_function)\n\u001b[0;32m      7\u001b[0m entry \u001b[38;5;241m=\u001b[39m tk\u001b[38;5;241m.\u001b[39mEntry(root)\n\u001b[0;32m      8\u001b[0m e1 \u001b[38;5;241m=\u001b[39m entry\u001b[38;5;241m.\u001b[39mget()\n",
      "\u001b[1;31mNameError\u001b[0m: name 'callback_function' is not defined"
     ]
    }
   ],
   "source": [
    "import tkinter as tk\n",
    "\n",
    "root = tk.Tk()  # Creates the main window\n",
    "root.title(\"My GUI\")  # Sets the title of the window\n",
    "label = tk.Label(root, text=\"Hello, Tkinter!\")\n",
    "button = tk.Button(root, text=\"Click me!\", command=callback_function)\n",
    "entry = tk.Entry(root)\n",
    "e1 = entry.get()\n",
    "label1 = tk.Label(root, text=\"Label 1\")\n",
    "label2 = tk.Label(root, text=\"Label 2\")\n",
    "\n",
    "label1.grid(row=0, column=0)\n",
    "label2.grid(row=1, column=1)\n",
    "def callback_function():\n",
    "    print(\"Button Clicked!\")\n",
    "\n",
    "button = tk.Button(root, text=\"Click me!\", command=callback_function)\n",
    "\n"
   ]
  },
  {
   "cell_type": "markdown",
   "id": "df90026a-89ea-400c-9072-ff8d24b2dbbd",
   "metadata": {},
   "source": [
    "model = joblib.load('my_model')"
   ]
  },
  {
   "cell_type": "code",
   "execution_count": 15,
   "id": "8778bd65-d4b9-4d31-84dd-fe6fe2c5540e",
   "metadata": {},
   "outputs": [
    {
     "data": {
      "application/javascript": [
       "window.require && require([\"base/js/namespace\"],function(Jupyter){Jupyter.notebook.save_checkpoint()})"
      ],
      "text/plain": [
       "<IPython.core.display.Javascript object>"
      ]
     },
     "metadata": {},
     "output_type": "display_data"
    },
    {
     "name": "stdout",
     "output_type": "stream",
     "text": [
      "[jovian] Updating notebook \"i222591/some-basic\" on https://jovian.com/\u001b[0m\n",
      "[jovian] Committed successfully! https://jovian.com/i222591/some-basic\u001b[0m\n"
     ]
    },
    {
     "data": {
      "text/plain": [
       "'https://jovian.com/i222591/some-basic'"
      ]
     },
     "execution_count": 15,
     "metadata": {},
     "output_type": "execute_result"
    }
   ],
   "source": [
    "import jovian\n",
    "jovian.commit(filename = 'Some_Basic_And_TkinterGui')\n"
   ]
  }
 ],
 "metadata": {
  "kernelspec": {
   "display_name": "Python 3 (ipykernel)",
   "language": "python",
   "name": "python3"
  },
  "language_info": {
   "codemirror_mode": {
    "name": "ipython",
    "version": 3
   },
   "file_extension": ".py",
   "mimetype": "text/x-python",
   "name": "python",
   "nbconvert_exporter": "python",
   "pygments_lexer": "ipython3",
   "version": "3.11.7"
  }
 },
 "nbformat": 4,
 "nbformat_minor": 5
}
